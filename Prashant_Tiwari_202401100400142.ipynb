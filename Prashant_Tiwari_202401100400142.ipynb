{
  "nbformat": 4,
  "nbformat_minor": 0,
  "metadata": {
    "colab": {
      "provenance": []
    },
    "kernelspec": {
      "name": "python3",
      "display_name": "Python 3"
    },
    "language_info": {
      "name": "python"
    }
  },
  "cells": [
    {
      "cell_type": "code",
      "execution_count": 2,
      "metadata": {
        "colab": {
          "base_uri": "https://localhost:8080/"
        },
        "id": "usIj1DNVPS_t",
        "outputId": "c377c64f-8157-44db-b3cc-c2f53687ec62"
      },
      "outputs": [
        {
          "output_type": "stream",
          "name": "stdout",
          "text": [
            "Welcome to the AI-Based Number Guessing Game!\n",
            "Think of a number between 1 and 100, and I'll try to guess it.\n",
            "Is your number 50? (Respond with: 'h' for too high, 'l' for too low, 'c' for correct)\n",
            "5\n",
            "Invalid input! Please enter 'h', 'l', or 'c'.\n",
            "Is your number 50? (Respond with: 'h' for too high, 'l' for too low, 'c' for correct)\n",
            "l\n",
            "Is your number 75? (Respond with: 'h' for too high, 'l' for too low, 'c' for correct)\n",
            "h\n",
            "Is your number 62? (Respond with: 'h' for too high, 'l' for too low, 'c' for correct)\n",
            "h\n",
            "Is your number 56? (Respond with: 'h' for too high, 'l' for too low, 'c' for correct)\n",
            "l\n",
            "Is your number 59? (Respond with: 'h' for too high, 'l' for too low, 'c' for correct)\n",
            "c\n",
            "Hooray! I guessed your number 59 in 6 attempts!\n",
            "Game Over! Thanks for playing!\n"
          ]
        }
      ],
      "source": [
        "# AI-Based Number Guessing Game\n",
        "# This program uses an efficient binary search strategy to guess a number chosen by the user.\n",
        "\n",
        "import random\n",
        "\n",
        "def number_guessing_game():\n",
        "    print(\"Welcome to the AI-Based Number Guessing Game!\")\n",
        "    print(\"Think of a number between 1 and 100, and I'll try to guess it.\")\n",
        "\n",
        "    low, high = 1, 100  # Defining the range of possible numbers\n",
        "    attempts = 0  # Count the number of attempts\n",
        "\n",
        "    while low <= high:\n",
        "        guess = (low + high) // 2  # AI makes a guess using binary search\n",
        "        attempts += 1\n",
        "\n",
        "        print(f\"Is your number {guess}? (Respond with: 'h' for too high, 'l' for too low, 'c' for correct)\")\n",
        "        user_input = input().lower()\n",
        "\n",
        "        if user_input == 'c':\n",
        "            print(f\"Hooray! I guessed your number {guess} in {attempts} attempts!\")\n",
        "            break\n",
        "        elif user_input == 'h':\n",
        "            high = guess - 1  # Adjust the search range (eliminate upper half)\n",
        "        elif user_input == 'l':\n",
        "            low = guess + 1  # Adjust the search range (eliminate lower half)\n",
        "        else:\n",
        "            print(\"Invalid input! Please enter 'h', 'l', or 'c'.\")\n",
        "\n",
        "    print(\"Game Over! Thanks for playing!\")\n",
        "\n",
        "# Run the game\n",
        "number_guessing_game()"
      ]
    }
  ]
}